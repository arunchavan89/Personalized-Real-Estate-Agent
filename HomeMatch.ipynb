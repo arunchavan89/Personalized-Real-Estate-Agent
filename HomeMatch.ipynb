{
 "cells": [
  {
   "cell_type": "markdown",
   "id": "a108af04",
   "metadata": {},
   "source": [
    "This is a starter notebook for the project, you'll have to import the libraries you'll need, you can find a list of the ones available in this workspace in the requirements.txt file in this workspace. "
   ]
  },
  {
   "cell_type": "markdown",
   "id": "fcbc77cf-1722-40dc-93cc-e61ba0222c69",
   "metadata": {},
   "source": [
    "# Step 1: Setting Up the Python Application"
   ]
  },
  {
   "cell_type": "code",
   "execution_count": 1,
   "id": "05bdb21a-776a-4bec-9427-0404f41e0715",
   "metadata": {},
   "outputs": [
    {
     "name": "stdout",
     "output_type": "stream",
     "text": [
      "Requirement already satisfied: pandas in c:\\users\\ac88385\\appdata\\local\\anaconda3\\lib\\site-packages (2.1.4)\n",
      "Requirement already satisfied: numpy<2,>=1.23.2 in c:\\users\\ac88385\\appdata\\local\\anaconda3\\lib\\site-packages (from pandas) (1.26.4)\n",
      "Requirement already satisfied: python-dateutil>=2.8.2 in c:\\users\\ac88385\\appdata\\local\\anaconda3\\lib\\site-packages (from pandas) (2.8.2)\n",
      "Requirement already satisfied: pytz>=2020.1 in c:\\users\\ac88385\\appdata\\local\\anaconda3\\lib\\site-packages (from pandas) (2023.3.post1)\n",
      "Requirement already satisfied: tzdata>=2022.1 in c:\\users\\ac88385\\appdata\\local\\anaconda3\\lib\\site-packages (from pandas) (2023.3)\n",
      "Requirement already satisfied: six>=1.5 in c:\\users\\ac88385\\appdata\\local\\anaconda3\\lib\\site-packages (from python-dateutil>=2.8.2->pandas) (1.16.0)\n",
      "Requirement already satisfied: openai in c:\\users\\ac88385\\appdata\\local\\anaconda3\\lib\\site-packages (1.17.1)\n",
      "Requirement already satisfied: anyio<5,>=3.5.0 in c:\\users\\ac88385\\appdata\\local\\anaconda3\\lib\\site-packages (from openai) (4.2.0)\n",
      "Requirement already satisfied: distro<2,>=1.7.0 in c:\\users\\ac88385\\appdata\\local\\anaconda3\\lib\\site-packages (from openai) (1.8.0)\n",
      "Requirement already satisfied: httpx<1,>=0.23.0 in c:\\users\\ac88385\\appdata\\local\\anaconda3\\lib\\site-packages (from openai) (0.27.0)\n",
      "Requirement already satisfied: pydantic<3,>=1.9.0 in c:\\users\\ac88385\\appdata\\local\\anaconda3\\lib\\site-packages (from openai) (1.10.12)\n",
      "Requirement already satisfied: sniffio in c:\\users\\ac88385\\appdata\\local\\anaconda3\\lib\\site-packages (from openai) (1.3.0)\n",
      "Requirement already satisfied: tqdm>4 in c:\\users\\ac88385\\appdata\\local\\anaconda3\\lib\\site-packages (from openai) (4.65.0)\n",
      "Requirement already satisfied: typing-extensions<5,>=4.7 in c:\\users\\ac88385\\appdata\\local\\anaconda3\\lib\\site-packages (from openai) (4.9.0)\n",
      "Requirement already satisfied: idna>=2.8 in c:\\users\\ac88385\\appdata\\local\\anaconda3\\lib\\site-packages (from anyio<5,>=3.5.0->openai) (3.4)\n",
      "Requirement already satisfied: certifi in c:\\users\\ac88385\\appdata\\local\\anaconda3\\lib\\site-packages (from httpx<1,>=0.23.0->openai) (2024.2.2)\n",
      "Requirement already satisfied: httpcore==1.* in c:\\users\\ac88385\\appdata\\local\\anaconda3\\lib\\site-packages (from httpx<1,>=0.23.0->openai) (1.0.5)\n",
      "Requirement already satisfied: h11<0.15,>=0.13 in c:\\users\\ac88385\\appdata\\local\\anaconda3\\lib\\site-packages (from httpcore==1.*->httpx<1,>=0.23.0->openai) (0.14.0)\n",
      "Requirement already satisfied: colorama in c:\\users\\ac88385\\appdata\\local\\anaconda3\\lib\\site-packages (from tqdm>4->openai) (0.4.6)\n",
      "Requirement already satisfied: chromadb in c:\\users\\ac88385\\appdata\\local\\anaconda3\\lib\\site-packages (0.4.24)\n",
      "Requirement already satisfied: build>=1.0.3 in c:\\users\\ac88385\\appdata\\local\\anaconda3\\lib\\site-packages (from chromadb) (1.2.1)\n",
      "Requirement already satisfied: requests>=2.28 in c:\\users\\ac88385\\appdata\\local\\anaconda3\\lib\\site-packages (from chromadb) (2.31.0)\n",
      "Requirement already satisfied: pydantic>=1.9 in c:\\users\\ac88385\\appdata\\local\\anaconda3\\lib\\site-packages (from chromadb) (1.10.12)\n",
      "Requirement already satisfied: chroma-hnswlib==0.7.3 in c:\\users\\ac88385\\appdata\\local\\anaconda3\\lib\\site-packages (from chromadb) (0.7.3)\n",
      "Requirement already satisfied: fastapi>=0.95.2 in c:\\users\\ac88385\\appdata\\local\\anaconda3\\lib\\site-packages (from chromadb) (0.110.1)\n",
      "Requirement already satisfied: uvicorn>=0.18.3 in c:\\users\\ac88385\\appdata\\local\\anaconda3\\lib\\site-packages (from uvicorn[standard]>=0.18.3->chromadb) (0.29.0)\n",
      "Requirement already satisfied: numpy>=1.22.5 in c:\\users\\ac88385\\appdata\\local\\anaconda3\\lib\\site-packages (from chromadb) (1.26.4)\n",
      "Requirement already satisfied: posthog>=2.4.0 in c:\\users\\ac88385\\appdata\\local\\anaconda3\\lib\\site-packages (from chromadb) (3.5.0)\n",
      "Requirement already satisfied: typing-extensions>=4.5.0 in c:\\users\\ac88385\\appdata\\local\\anaconda3\\lib\\site-packages (from chromadb) (4.9.0)\n",
      "Requirement already satisfied: pulsar-client>=3.1.0 in c:\\users\\ac88385\\appdata\\local\\anaconda3\\lib\\site-packages (from chromadb) (3.5.0)\n",
      "Requirement already satisfied: onnxruntime>=1.14.1 in c:\\users\\ac88385\\appdata\\local\\anaconda3\\lib\\site-packages (from chromadb) (1.17.3)\n",
      "Requirement already satisfied: opentelemetry-api>=1.2.0 in c:\\users\\ac88385\\appdata\\local\\anaconda3\\lib\\site-packages (from chromadb) (1.24.0)\n",
      "Requirement already satisfied: opentelemetry-exporter-otlp-proto-grpc>=1.2.0 in c:\\users\\ac88385\\appdata\\local\\anaconda3\\lib\\site-packages (from chromadb) (1.24.0)\n",
      "Requirement already satisfied: opentelemetry-instrumentation-fastapi>=0.41b0 in c:\\users\\ac88385\\appdata\\local\\anaconda3\\lib\\site-packages (from chromadb) (0.45b0)\n",
      "Requirement already satisfied: opentelemetry-sdk>=1.2.0 in c:\\users\\ac88385\\appdata\\local\\anaconda3\\lib\\site-packages (from chromadb) (1.24.0)\n",
      "Requirement already satisfied: tokenizers>=0.13.2 in c:\\users\\ac88385\\appdata\\local\\anaconda3\\lib\\site-packages (from chromadb) (0.15.2)\n",
      "Requirement already satisfied: pypika>=0.48.9 in c:\\users\\ac88385\\appdata\\local\\anaconda3\\lib\\site-packages (from chromadb) (0.48.9)\n",
      "Requirement already satisfied: tqdm>=4.65.0 in c:\\users\\ac88385\\appdata\\local\\anaconda3\\lib\\site-packages (from chromadb) (4.65.0)\n",
      "Requirement already satisfied: overrides>=7.3.1 in c:\\users\\ac88385\\appdata\\local\\anaconda3\\lib\\site-packages (from chromadb) (7.4.0)\n",
      "Requirement already satisfied: importlib-resources in c:\\users\\ac88385\\appdata\\local\\anaconda3\\lib\\site-packages (from chromadb) (6.4.0)\n",
      "Requirement already satisfied: grpcio>=1.58.0 in c:\\users\\ac88385\\appdata\\local\\anaconda3\\lib\\site-packages (from chromadb) (1.62.1)\n",
      "Requirement already satisfied: bcrypt>=4.0.1 in c:\\users\\ac88385\\appdata\\local\\anaconda3\\lib\\site-packages (from chromadb) (4.1.2)\n",
      "Requirement already satisfied: typer>=0.9.0 in c:\\users\\ac88385\\appdata\\local\\anaconda3\\lib\\site-packages (from chromadb) (0.12.3)\n",
      "Requirement already satisfied: kubernetes>=28.1.0 in c:\\users\\ac88385\\appdata\\local\\anaconda3\\lib\\site-packages (from chromadb) (29.0.0)\n",
      "Requirement already satisfied: tenacity>=8.2.3 in c:\\users\\ac88385\\appdata\\local\\anaconda3\\lib\\site-packages (from chromadb) (8.2.3)\n",
      "Requirement already satisfied: PyYAML>=6.0.0 in c:\\users\\ac88385\\appdata\\local\\anaconda3\\lib\\site-packages (from chromadb) (6.0.1)\n",
      "Requirement already satisfied: mmh3>=4.0.1 in c:\\users\\ac88385\\appdata\\local\\anaconda3\\lib\\site-packages (from chromadb) (4.1.0)\n",
      "Requirement already satisfied: orjson>=3.9.12 in c:\\users\\ac88385\\appdata\\local\\anaconda3\\lib\\site-packages (from chromadb) (3.10.0)\n",
      "Requirement already satisfied: packaging>=19.1 in c:\\users\\ac88385\\appdata\\local\\anaconda3\\lib\\site-packages (from build>=1.0.3->chromadb) (23.2)\n",
      "Requirement already satisfied: pyproject_hooks in c:\\users\\ac88385\\appdata\\local\\anaconda3\\lib\\site-packages (from build>=1.0.3->chromadb) (1.0.0)\n",
      "Requirement already satisfied: colorama in c:\\users\\ac88385\\appdata\\local\\anaconda3\\lib\\site-packages (from build>=1.0.3->chromadb) (0.4.6)\n",
      "Requirement already satisfied: starlette<0.38.0,>=0.37.2 in c:\\users\\ac88385\\appdata\\local\\anaconda3\\lib\\site-packages (from fastapi>=0.95.2->chromadb) (0.37.2)\n",
      "Requirement already satisfied: certifi>=14.05.14 in c:\\users\\ac88385\\appdata\\local\\anaconda3\\lib\\site-packages (from kubernetes>=28.1.0->chromadb) (2024.2.2)\n",
      "Requirement already satisfied: six>=1.9.0 in c:\\users\\ac88385\\appdata\\local\\anaconda3\\lib\\site-packages (from kubernetes>=28.1.0->chromadb) (1.16.0)\n",
      "Requirement already satisfied: python-dateutil>=2.5.3 in c:\\users\\ac88385\\appdata\\local\\anaconda3\\lib\\site-packages (from kubernetes>=28.1.0->chromadb) (2.8.2)\n",
      "Requirement already satisfied: google-auth>=1.0.1 in c:\\users\\ac88385\\appdata\\local\\anaconda3\\lib\\site-packages (from kubernetes>=28.1.0->chromadb) (2.29.0)\n",
      "Requirement already satisfied: websocket-client!=0.40.0,!=0.41.*,!=0.42.*,>=0.32.0 in c:\\users\\ac88385\\appdata\\local\\anaconda3\\lib\\site-packages (from kubernetes>=28.1.0->chromadb) (0.58.0)\n",
      "Requirement already satisfied: requests-oauthlib in c:\\users\\ac88385\\appdata\\local\\anaconda3\\lib\\site-packages (from kubernetes>=28.1.0->chromadb) (2.0.0)\n",
      "Requirement already satisfied: oauthlib>=3.2.2 in c:\\users\\ac88385\\appdata\\local\\anaconda3\\lib\\site-packages (from kubernetes>=28.1.0->chromadb) (3.2.2)\n",
      "Requirement already satisfied: urllib3>=1.24.2 in c:\\users\\ac88385\\appdata\\local\\anaconda3\\lib\\site-packages (from kubernetes>=28.1.0->chromadb) (2.0.7)\n",
      "Requirement already satisfied: coloredlogs in c:\\users\\ac88385\\appdata\\local\\anaconda3\\lib\\site-packages (from onnxruntime>=1.14.1->chromadb) (15.0.1)\n",
      "Requirement already satisfied: flatbuffers in c:\\users\\ac88385\\appdata\\local\\anaconda3\\lib\\site-packages (from onnxruntime>=1.14.1->chromadb) (24.3.25)\n",
      "Requirement already satisfied: protobuf in c:\\users\\ac88385\\appdata\\local\\anaconda3\\lib\\site-packages (from onnxruntime>=1.14.1->chromadb) (3.20.3)\n",
      "Requirement already satisfied: sympy in c:\\users\\ac88385\\appdata\\local\\anaconda3\\lib\\site-packages (from onnxruntime>=1.14.1->chromadb) (1.12)\n",
      "Requirement already satisfied: deprecated>=1.2.6 in c:\\users\\ac88385\\appdata\\local\\anaconda3\\lib\\site-packages (from opentelemetry-api>=1.2.0->chromadb) (1.2.14)\n",
      "Requirement already satisfied: importlib-metadata<=7.0,>=6.0 in c:\\users\\ac88385\\appdata\\local\\anaconda3\\lib\\site-packages (from opentelemetry-api>=1.2.0->chromadb) (7.0.0)\n",
      "Requirement already satisfied: googleapis-common-protos~=1.52 in c:\\users\\ac88385\\appdata\\local\\anaconda3\\lib\\site-packages (from opentelemetry-exporter-otlp-proto-grpc>=1.2.0->chromadb) (1.63.0)\n",
      "Requirement already satisfied: opentelemetry-exporter-otlp-proto-common==1.24.0 in c:\\users\\ac88385\\appdata\\local\\anaconda3\\lib\\site-packages (from opentelemetry-exporter-otlp-proto-grpc>=1.2.0->chromadb) (1.24.0)\n",
      "Requirement already satisfied: opentelemetry-proto==1.24.0 in c:\\users\\ac88385\\appdata\\local\\anaconda3\\lib\\site-packages (from opentelemetry-exporter-otlp-proto-grpc>=1.2.0->chromadb) (1.24.0)\n",
      "Requirement already satisfied: opentelemetry-instrumentation-asgi==0.45b0 in c:\\users\\ac88385\\appdata\\local\\anaconda3\\lib\\site-packages (from opentelemetry-instrumentation-fastapi>=0.41b0->chromadb) (0.45b0)\n",
      "Requirement already satisfied: opentelemetry-instrumentation==0.45b0 in c:\\users\\ac88385\\appdata\\local\\anaconda3\\lib\\site-packages (from opentelemetry-instrumentation-fastapi>=0.41b0->chromadb) (0.45b0)\n",
      "Requirement already satisfied: opentelemetry-semantic-conventions==0.45b0 in c:\\users\\ac88385\\appdata\\local\\anaconda3\\lib\\site-packages (from opentelemetry-instrumentation-fastapi>=0.41b0->chromadb) (0.45b0)\n",
      "Requirement already satisfied: opentelemetry-util-http==0.45b0 in c:\\users\\ac88385\\appdata\\local\\anaconda3\\lib\\site-packages (from opentelemetry-instrumentation-fastapi>=0.41b0->chromadb) (0.45b0)\n",
      "Requirement already satisfied: setuptools>=16.0 in c:\\users\\ac88385\\appdata\\local\\anaconda3\\lib\\site-packages (from opentelemetry-instrumentation==0.45b0->opentelemetry-instrumentation-fastapi>=0.41b0->chromadb) (68.2.2)\n",
      "Requirement already satisfied: wrapt<2.0.0,>=1.0.0 in c:\\users\\ac88385\\appdata\\local\\anaconda3\\lib\\site-packages (from opentelemetry-instrumentation==0.45b0->opentelemetry-instrumentation-fastapi>=0.41b0->chromadb) (1.14.1)\n",
      "Requirement already satisfied: asgiref~=3.0 in c:\\users\\ac88385\\appdata\\local\\anaconda3\\lib\\site-packages (from opentelemetry-instrumentation-asgi==0.45b0->opentelemetry-instrumentation-fastapi>=0.41b0->chromadb) (3.8.1)\n",
      "Requirement already satisfied: monotonic>=1.5 in c:\\users\\ac88385\\appdata\\local\\anaconda3\\lib\\site-packages (from posthog>=2.4.0->chromadb) (1.6)\n",
      "Requirement already satisfied: backoff>=1.10.0 in c:\\users\\ac88385\\appdata\\local\\anaconda3\\lib\\site-packages (from posthog>=2.4.0->chromadb) (2.2.1)\n",
      "Requirement already satisfied: charset-normalizer<4,>=2 in c:\\users\\ac88385\\appdata\\local\\anaconda3\\lib\\site-packages (from requests>=2.28->chromadb) (2.0.4)\n",
      "Requirement already satisfied: idna<4,>=2.5 in c:\\users\\ac88385\\appdata\\local\\anaconda3\\lib\\site-packages (from requests>=2.28->chromadb) (3.4)\n",
      "Requirement already satisfied: huggingface_hub<1.0,>=0.16.4 in c:\\users\\ac88385\\appdata\\local\\anaconda3\\lib\\site-packages (from tokenizers>=0.13.2->chromadb) (0.22.2)\n",
      "Requirement already satisfied: click>=8.0.0 in c:\\users\\ac88385\\appdata\\local\\anaconda3\\lib\\site-packages (from typer>=0.9.0->chromadb) (8.1.7)\n",
      "Requirement already satisfied: shellingham>=1.3.0 in c:\\users\\ac88385\\appdata\\local\\anaconda3\\lib\\site-packages (from typer>=0.9.0->chromadb) (1.5.4)\n",
      "Requirement already satisfied: rich>=10.11.0 in c:\\users\\ac88385\\appdata\\local\\anaconda3\\lib\\site-packages (from typer>=0.9.0->chromadb) (13.3.5)\n",
      "Requirement already satisfied: h11>=0.8 in c:\\users\\ac88385\\appdata\\local\\anaconda3\\lib\\site-packages (from uvicorn>=0.18.3->uvicorn[standard]>=0.18.3->chromadb) (0.14.0)\n",
      "Requirement already satisfied: httptools>=0.5.0 in c:\\users\\ac88385\\appdata\\local\\anaconda3\\lib\\site-packages (from uvicorn[standard]>=0.18.3->chromadb) (0.6.1)\n",
      "Requirement already satisfied: python-dotenv>=0.13 in c:\\users\\ac88385\\appdata\\local\\anaconda3\\lib\\site-packages (from uvicorn[standard]>=0.18.3->chromadb) (0.21.0)\n",
      "Requirement already satisfied: watchfiles>=0.13 in c:\\users\\ac88385\\appdata\\local\\anaconda3\\lib\\site-packages (from uvicorn[standard]>=0.18.3->chromadb) (0.21.0)\n",
      "Requirement already satisfied: websockets>=10.4 in c:\\users\\ac88385\\appdata\\local\\anaconda3\\lib\\site-packages (from uvicorn[standard]>=0.18.3->chromadb) (12.0)\n",
      "Requirement already satisfied: cachetools<6.0,>=2.0.0 in c:\\users\\ac88385\\appdata\\local\\anaconda3\\lib\\site-packages (from google-auth>=1.0.1->kubernetes>=28.1.0->chromadb) (4.2.2)\n",
      "Requirement already satisfied: pyasn1-modules>=0.2.1 in c:\\users\\ac88385\\appdata\\local\\anaconda3\\lib\\site-packages (from google-auth>=1.0.1->kubernetes>=28.1.0->chromadb) (0.2.8)\n",
      "Requirement already satisfied: rsa<5,>=3.1.4 in c:\\users\\ac88385\\appdata\\local\\anaconda3\\lib\\site-packages (from google-auth>=1.0.1->kubernetes>=28.1.0->chromadb) (4.9)\n",
      "Requirement already satisfied: filelock in c:\\users\\ac88385\\appdata\\local\\anaconda3\\lib\\site-packages (from huggingface_hub<1.0,>=0.16.4->tokenizers>=0.13.2->chromadb) (3.13.1)\n",
      "Requirement already satisfied: fsspec>=2023.5.0 in c:\\users\\ac88385\\appdata\\local\\anaconda3\\lib\\site-packages (from huggingface_hub<1.0,>=0.16.4->tokenizers>=0.13.2->chromadb) (2023.10.0)\n",
      "Requirement already satisfied: zipp>=0.5 in c:\\users\\ac88385\\appdata\\local\\anaconda3\\lib\\site-packages (from importlib-metadata<=7.0,>=6.0->opentelemetry-api>=1.2.0->chromadb) (3.17.0)\n",
      "Requirement already satisfied: markdown-it-py<3.0.0,>=2.2.0 in c:\\users\\ac88385\\appdata\\local\\anaconda3\\lib\\site-packages (from rich>=10.11.0->typer>=0.9.0->chromadb) (2.2.0)\n",
      "Requirement already satisfied: pygments<3.0.0,>=2.13.0 in c:\\users\\ac88385\\appdata\\local\\anaconda3\\lib\\site-packages (from rich>=10.11.0->typer>=0.9.0->chromadb) (2.15.1)\n",
      "Requirement already satisfied: anyio<5,>=3.4.0 in c:\\users\\ac88385\\appdata\\local\\anaconda3\\lib\\site-packages (from starlette<0.38.0,>=0.37.2->fastapi>=0.95.2->chromadb) (4.2.0)\n",
      "Requirement already satisfied: humanfriendly>=9.1 in c:\\users\\ac88385\\appdata\\local\\anaconda3\\lib\\site-packages (from coloredlogs->onnxruntime>=1.14.1->chromadb) (10.0)\n",
      "Requirement already satisfied: mpmath>=0.19 in c:\\users\\ac88385\\appdata\\local\\anaconda3\\lib\\site-packages (from sympy->onnxruntime>=1.14.1->chromadb) (1.3.0)\n",
      "Requirement already satisfied: sniffio>=1.1 in c:\\users\\ac88385\\appdata\\local\\anaconda3\\lib\\site-packages (from anyio<5,>=3.4.0->starlette<0.38.0,>=0.37.2->fastapi>=0.95.2->chromadb) (1.3.0)\n",
      "Requirement already satisfied: pyreadline3 in c:\\users\\ac88385\\appdata\\local\\anaconda3\\lib\\site-packages (from humanfriendly>=9.1->coloredlogs->onnxruntime>=1.14.1->chromadb) (3.4.1)\n",
      "Requirement already satisfied: mdurl~=0.1 in c:\\users\\ac88385\\appdata\\local\\anaconda3\\lib\\site-packages (from markdown-it-py<3.0.0,>=2.2.0->rich>=10.11.0->typer>=0.9.0->chromadb) (0.1.0)\n",
      "Requirement already satisfied: pyasn1<0.5.0,>=0.4.6 in c:\\users\\ac88385\\appdata\\local\\anaconda3\\lib\\site-packages (from pyasn1-modules>=0.2.1->google-auth>=1.0.1->kubernetes>=28.1.0->chromadb) (0.4.8)\n",
      "Requirement already satisfied: langchain in c:\\users\\ac88385\\appdata\\local\\anaconda3\\lib\\site-packages (0.1.16)\n",
      "Requirement already satisfied: PyYAML>=5.3 in c:\\users\\ac88385\\appdata\\local\\anaconda3\\lib\\site-packages (from langchain) (6.0.1)\n",
      "Requirement already satisfied: SQLAlchemy<3,>=1.4 in c:\\users\\ac88385\\appdata\\local\\anaconda3\\lib\\site-packages (from langchain) (2.0.25)\n",
      "Requirement already satisfied: aiohttp<4.0.0,>=3.8.3 in c:\\users\\ac88385\\appdata\\local\\anaconda3\\lib\\site-packages (from langchain) (3.9.3)\n",
      "Requirement already satisfied: dataclasses-json<0.7,>=0.5.7 in c:\\users\\ac88385\\appdata\\local\\anaconda3\\lib\\site-packages (from langchain) (0.6.4)\n",
      "Requirement already satisfied: jsonpatch<2.0,>=1.33 in c:\\users\\ac88385\\appdata\\local\\anaconda3\\lib\\site-packages (from langchain) (1.33)\n",
      "Requirement already satisfied: langchain-community<0.1,>=0.0.32 in c:\\users\\ac88385\\appdata\\local\\anaconda3\\lib\\site-packages (from langchain) (0.0.32)\n",
      "Requirement already satisfied: langchain-core<0.2.0,>=0.1.42 in c:\\users\\ac88385\\appdata\\local\\anaconda3\\lib\\site-packages (from langchain) (0.1.42)\n",
      "Requirement already satisfied: langchain-text-splitters<0.1,>=0.0.1 in c:\\users\\ac88385\\appdata\\local\\anaconda3\\lib\\site-packages (from langchain) (0.0.1)\n",
      "Requirement already satisfied: langsmith<0.2.0,>=0.1.17 in c:\\users\\ac88385\\appdata\\local\\anaconda3\\lib\\site-packages (from langchain) (0.1.47)\n",
      "Requirement already satisfied: numpy<2,>=1 in c:\\users\\ac88385\\appdata\\local\\anaconda3\\lib\\site-packages (from langchain) (1.26.4)\n",
      "Requirement already satisfied: pydantic<3,>=1 in c:\\users\\ac88385\\appdata\\local\\anaconda3\\lib\\site-packages (from langchain) (1.10.12)\n",
      "Requirement already satisfied: requests<3,>=2 in c:\\users\\ac88385\\appdata\\local\\anaconda3\\lib\\site-packages (from langchain) (2.31.0)\n",
      "Requirement already satisfied: tenacity<9.0.0,>=8.1.0 in c:\\users\\ac88385\\appdata\\local\\anaconda3\\lib\\site-packages (from langchain) (8.2.3)\n",
      "Requirement already satisfied: aiosignal>=1.1.2 in c:\\users\\ac88385\\appdata\\local\\anaconda3\\lib\\site-packages (from aiohttp<4.0.0,>=3.8.3->langchain) (1.2.0)\n",
      "Requirement already satisfied: attrs>=17.3.0 in c:\\users\\ac88385\\appdata\\local\\anaconda3\\lib\\site-packages (from aiohttp<4.0.0,>=3.8.3->langchain) (23.1.0)\n",
      "Requirement already satisfied: frozenlist>=1.1.1 in c:\\users\\ac88385\\appdata\\local\\anaconda3\\lib\\site-packages (from aiohttp<4.0.0,>=3.8.3->langchain) (1.4.0)\n",
      "Requirement already satisfied: multidict<7.0,>=4.5 in c:\\users\\ac88385\\appdata\\local\\anaconda3\\lib\\site-packages (from aiohttp<4.0.0,>=3.8.3->langchain) (6.0.4)\n",
      "Requirement already satisfied: yarl<2.0,>=1.0 in c:\\users\\ac88385\\appdata\\local\\anaconda3\\lib\\site-packages (from aiohttp<4.0.0,>=3.8.3->langchain) (1.9.3)\n",
      "Requirement already satisfied: marshmallow<4.0.0,>=3.18.0 in c:\\users\\ac88385\\appdata\\local\\anaconda3\\lib\\site-packages (from dataclasses-json<0.7,>=0.5.7->langchain) (3.21.1)\n",
      "Requirement already satisfied: typing-inspect<1,>=0.4.0 in c:\\users\\ac88385\\appdata\\local\\anaconda3\\lib\\site-packages (from dataclasses-json<0.7,>=0.5.7->langchain) (0.9.0)\n",
      "Requirement already satisfied: jsonpointer>=1.9 in c:\\users\\ac88385\\appdata\\local\\anaconda3\\lib\\site-packages (from jsonpatch<2.0,>=1.33->langchain) (2.1)\n",
      "Requirement already satisfied: packaging<24.0,>=23.2 in c:\\users\\ac88385\\appdata\\local\\anaconda3\\lib\\site-packages (from langchain-core<0.2.0,>=0.1.42->langchain) (23.2)\n",
      "Requirement already satisfied: orjson<4.0.0,>=3.9.14 in c:\\users\\ac88385\\appdata\\local\\anaconda3\\lib\\site-packages (from langsmith<0.2.0,>=0.1.17->langchain) (3.10.0)\n",
      "Requirement already satisfied: typing-extensions>=4.2.0 in c:\\users\\ac88385\\appdata\\local\\anaconda3\\lib\\site-packages (from pydantic<3,>=1->langchain) (4.9.0)\n",
      "Requirement already satisfied: charset-normalizer<4,>=2 in c:\\users\\ac88385\\appdata\\local\\anaconda3\\lib\\site-packages (from requests<3,>=2->langchain) (2.0.4)\n",
      "Requirement already satisfied: idna<4,>=2.5 in c:\\users\\ac88385\\appdata\\local\\anaconda3\\lib\\site-packages (from requests<3,>=2->langchain) (3.4)\n",
      "Requirement already satisfied: urllib3<3,>=1.21.1 in c:\\users\\ac88385\\appdata\\local\\anaconda3\\lib\\site-packages (from requests<3,>=2->langchain) (2.0.7)\n",
      "Requirement already satisfied: certifi>=2017.4.17 in c:\\users\\ac88385\\appdata\\local\\anaconda3\\lib\\site-packages (from requests<3,>=2->langchain) (2024.2.2)\n",
      "Requirement already satisfied: greenlet!=0.4.17 in c:\\users\\ac88385\\appdata\\local\\anaconda3\\lib\\site-packages (from SQLAlchemy<3,>=1.4->langchain) (3.0.1)\n",
      "Requirement already satisfied: mypy-extensions>=0.3.0 in c:\\users\\ac88385\\appdata\\local\\anaconda3\\lib\\site-packages (from typing-inspect<1,>=0.4.0->dataclasses-json<0.7,>=0.5.7->langchain) (1.0.0)\n",
      "Requirement already satisfied: numpy in c:\\users\\ac88385\\appdata\\local\\anaconda3\\lib\\site-packages (1.26.4)\n",
      "Requirement already satisfied: langchain-openai in c:\\users\\ac88385\\appdata\\local\\anaconda3\\lib\\site-packages (0.1.3)\n",
      "Requirement already satisfied: langchain-core<0.2.0,>=0.1.42 in c:\\users\\ac88385\\appdata\\local\\anaconda3\\lib\\site-packages (from langchain-openai) (0.1.42)\n",
      "Requirement already satisfied: openai<2.0.0,>=1.10.0 in c:\\users\\ac88385\\appdata\\local\\anaconda3\\lib\\site-packages (from langchain-openai) (1.17.1)\n",
      "Requirement already satisfied: tiktoken<1,>=0.5.2 in c:\\users\\ac88385\\appdata\\local\\anaconda3\\lib\\site-packages (from langchain-openai) (0.6.0)\n",
      "Requirement already satisfied: PyYAML>=5.3 in c:\\users\\ac88385\\appdata\\local\\anaconda3\\lib\\site-packages (from langchain-core<0.2.0,>=0.1.42->langchain-openai) (6.0.1)\n",
      "Requirement already satisfied: jsonpatch<2.0,>=1.33 in c:\\users\\ac88385\\appdata\\local\\anaconda3\\lib\\site-packages (from langchain-core<0.2.0,>=0.1.42->langchain-openai) (1.33)\n",
      "Requirement already satisfied: langsmith<0.2.0,>=0.1.0 in c:\\users\\ac88385\\appdata\\local\\anaconda3\\lib\\site-packages (from langchain-core<0.2.0,>=0.1.42->langchain-openai) (0.1.47)\n",
      "Requirement already satisfied: packaging<24.0,>=23.2 in c:\\users\\ac88385\\appdata\\local\\anaconda3\\lib\\site-packages (from langchain-core<0.2.0,>=0.1.42->langchain-openai) (23.2)\n",
      "Requirement already satisfied: pydantic<3,>=1 in c:\\users\\ac88385\\appdata\\local\\anaconda3\\lib\\site-packages (from langchain-core<0.2.0,>=0.1.42->langchain-openai) (1.10.12)\n",
      "Requirement already satisfied: tenacity<9.0.0,>=8.1.0 in c:\\users\\ac88385\\appdata\\local\\anaconda3\\lib\\site-packages (from langchain-core<0.2.0,>=0.1.42->langchain-openai) (8.2.3)\n",
      "Requirement already satisfied: anyio<5,>=3.5.0 in c:\\users\\ac88385\\appdata\\local\\anaconda3\\lib\\site-packages (from openai<2.0.0,>=1.10.0->langchain-openai) (4.2.0)\n",
      "Requirement already satisfied: distro<2,>=1.7.0 in c:\\users\\ac88385\\appdata\\local\\anaconda3\\lib\\site-packages (from openai<2.0.0,>=1.10.0->langchain-openai) (1.8.0)\n",
      "Requirement already satisfied: httpx<1,>=0.23.0 in c:\\users\\ac88385\\appdata\\local\\anaconda3\\lib\\site-packages (from openai<2.0.0,>=1.10.0->langchain-openai) (0.27.0)\n",
      "Requirement already satisfied: sniffio in c:\\users\\ac88385\\appdata\\local\\anaconda3\\lib\\site-packages (from openai<2.0.0,>=1.10.0->langchain-openai) (1.3.0)\n",
      "Requirement already satisfied: tqdm>4 in c:\\users\\ac88385\\appdata\\local\\anaconda3\\lib\\site-packages (from openai<2.0.0,>=1.10.0->langchain-openai) (4.65.0)\n",
      "Requirement already satisfied: typing-extensions<5,>=4.7 in c:\\users\\ac88385\\appdata\\local\\anaconda3\\lib\\site-packages (from openai<2.0.0,>=1.10.0->langchain-openai) (4.9.0)\n",
      "Requirement already satisfied: regex>=2022.1.18 in c:\\users\\ac88385\\appdata\\local\\anaconda3\\lib\\site-packages (from tiktoken<1,>=0.5.2->langchain-openai) (2023.10.3)\n",
      "Requirement already satisfied: requests>=2.26.0 in c:\\users\\ac88385\\appdata\\local\\anaconda3\\lib\\site-packages (from tiktoken<1,>=0.5.2->langchain-openai) (2.31.0)\n",
      "Requirement already satisfied: idna>=2.8 in c:\\users\\ac88385\\appdata\\local\\anaconda3\\lib\\site-packages (from anyio<5,>=3.5.0->openai<2.0.0,>=1.10.0->langchain-openai) (3.4)\n",
      "Requirement already satisfied: certifi in c:\\users\\ac88385\\appdata\\local\\anaconda3\\lib\\site-packages (from httpx<1,>=0.23.0->openai<2.0.0,>=1.10.0->langchain-openai) (2024.2.2)\n",
      "Requirement already satisfied: httpcore==1.* in c:\\users\\ac88385\\appdata\\local\\anaconda3\\lib\\site-packages (from httpx<1,>=0.23.0->openai<2.0.0,>=1.10.0->langchain-openai) (1.0.5)\n",
      "Requirement already satisfied: h11<0.15,>=0.13 in c:\\users\\ac88385\\appdata\\local\\anaconda3\\lib\\site-packages (from httpcore==1.*->httpx<1,>=0.23.0->openai<2.0.0,>=1.10.0->langchain-openai) (0.14.0)\n",
      "Requirement already satisfied: jsonpointer>=1.9 in c:\\users\\ac88385\\appdata\\local\\anaconda3\\lib\\site-packages (from jsonpatch<2.0,>=1.33->langchain-core<0.2.0,>=0.1.42->langchain-openai) (2.1)\n",
      "Requirement already satisfied: orjson<4.0.0,>=3.9.14 in c:\\users\\ac88385\\appdata\\local\\anaconda3\\lib\\site-packages (from langsmith<0.2.0,>=0.1.0->langchain-core<0.2.0,>=0.1.42->langchain-openai) (3.10.0)\n",
      "Requirement already satisfied: charset-normalizer<4,>=2 in c:\\users\\ac88385\\appdata\\local\\anaconda3\\lib\\site-packages (from requests>=2.26.0->tiktoken<1,>=0.5.2->langchain-openai) (2.0.4)\n",
      "Requirement already satisfied: urllib3<3,>=1.21.1 in c:\\users\\ac88385\\appdata\\local\\anaconda3\\lib\\site-packages (from requests>=2.26.0->tiktoken<1,>=0.5.2->langchain-openai) (2.0.7)\n",
      "Requirement already satisfied: colorama in c:\\users\\ac88385\\appdata\\local\\anaconda3\\lib\\site-packages (from tqdm>4->openai<2.0.0,>=1.10.0->langchain-openai) (0.4.6)\n",
      "Requirement already satisfied: pydantic in c:\\users\\ac88385\\appdata\\local\\anaconda3\\lib\\site-packages (1.10.12)\n",
      "Requirement already satisfied: typing-extensions>=4.2.0 in c:\\users\\ac88385\\appdata\\local\\anaconda3\\lib\\site-packages (from pydantic) (4.9.0)\n"
     ]
    },
    {
     "name": "stderr",
     "output_type": "stream",
     "text": [
      "ERROR: Could not find a version that satisfies the requirement shutil (from versions: none)\n",
      "ERROR: No matching distribution found for shutil\n"
     ]
    }
   ],
   "source": [
    "!pip install pandas\n",
    "!pip install chromadb\n",
    "!pip install langchain\n",
    "!pip install numpy\n",
    "!pip install -U langchain-openai\n",
    "!pip install pydantic\n",
    "!pip install shutil\n",
    "!pip install openai==0.28"
   ]
  },
  {
   "cell_type": "code",
   "execution_count": 1,
   "id": "6554fd4c",
   "metadata": {},
   "outputs": [],
   "source": [
    "import os\n",
    "import pandas as pd\n",
    "import shutil\n",
    "from dataclasses import dataclass\n",
    "\n",
    "from langchain.llms import OpenAI\n",
    "from langchain.embeddings import OpenAIEmbeddings\n",
    "from langchain.evaluation import load_evaluator\n",
    "from langchain.text_splitter import RecursiveCharacterTextSplitter\n",
    "from langchain.schema import Document\n",
    "from langchain.vectorstores.chroma import Chroma\n",
    "from langchain.chat_models import ChatOpenAI\n",
    "from langchain.prompts import ChatPromptTemplate\n",
    "\n",
    "from typing import List\n",
    "from langchain.output_parsers import PydanticOutputParser\n",
    "from langchain_core.pydantic_v1 import BaseModel, Field, NonNegativeInt\n",
    "from langchain.prompts import PromptTemplate\n",
    "from fastapi.encoders import jsonable_encoder"
   ]
  },
  {
   "cell_type": "markdown",
   "id": "7401b9d3-0c0a-43a7-b29d-68f59f8b6d19",
   "metadata": {},
   "source": [
    "# Step 2: Generating Real Estate Listings"
   ]
  },
  {
   "cell_type": "markdown",
   "id": "3787e85f-92c6-4858-931d-67a2a8899faf",
   "metadata": {},
   "source": [
    "## Define OpenAI model and API Key"
   ]
  },
  {
   "cell_type": "code",
   "execution_count": 2,
   "id": "64401832-feb4-4d89-b404-d27b90bcd188",
   "metadata": {},
   "outputs": [],
   "source": [
    "# Environment variables\n",
    "OPENAI_API_KEY = 'YOUR_OPENAI_KEY'\n",
    "MODEL_NAME = 'gpt-3.5-turbo'"
   ]
  },
  {
   "cell_type": "markdown",
   "id": "6afc666e-0ead-4ad6-938d-47c1d309ce73",
   "metadata": {},
   "source": [
    "## Load LLM"
   ]
  },
  {
   "cell_type": "code",
   "execution_count": 3,
   "id": "16d14656-fc0c-431e-96d9-56498edd2ca5",
   "metadata": {},
   "outputs": [
    {
     "name": "stderr",
     "output_type": "stream",
     "text": [
      "C:\\Users\\ac88385\\AppData\\Local\\anaconda3\\Lib\\site-packages\\langchain_community\\llms\\openai.py:249: UserWarning: You are trying to use a chat model. This way of initializing it is no longer supported. Instead, please use: `from langchain_community.chat_models import ChatOpenAI`\n",
      "  warnings.warn(\n",
      "C:\\Users\\ac88385\\AppData\\Local\\anaconda3\\Lib\\site-packages\\langchain_community\\llms\\openai.py:1070: UserWarning: You are trying to use a chat model. This way of initializing it is no longer supported. Instead, please use: `from langchain_community.chat_models import ChatOpenAI`\n",
      "  warnings.warn(\n"
     ]
    }
   ],
   "source": [
    "# load the model\n",
    "llm = OpenAI(model_name=MODEL_NAME, temperature=0, api_key=OPENAI_API_KEY)\n",
    "\n",
    "INSTRUCTION = \"Generate a CSV file with at least 10 real estate listings.\"\n",
    "SAMPLE_LISTING = \\\n",
    "\"\"\"\n",
    "Neighborhood: Green Oaks\n",
    "Price: $800,000\n",
    "Bedrooms: 3\n",
    "Bathrooms: 2\n",
    "House Size: 2,000 sqft\n",
    "\n",
    "Description: Welcome to this eco-friendly oasis nestled in the heart of Green Oaks. This charming 3-bedroom, 2-bathroom home boasts energy-efficient features such as solar panels and a well-insulated structure. Natural light floods the living spaces, highlighting the beautiful hardwood floors and eco-conscious finishes. The open-concept kitchen and dining area lead to a spacious backyard with a vegetable garden, perfect for the eco-conscious family. Embrace sustainable living without compromising on style in this Green Oaks gem.\n",
    "\n",
    "Neighborhood Description: Green Oaks is a close-knit, environmentally-conscious community with access to organic grocery stores, community gardens, and bike paths. Take a stroll through the nearby Green Oaks Park or grab a cup of coffee at the cozy Green Bean Cafe. With easy access to public transportation and bike lanes, commuting is a breeze.\n",
    "\"\"\""
   ]
  },
  {
   "cell_type": "code",
   "execution_count": 4,
   "id": "f33751a3-81d9-47e1-8a77-c0d02f53bdb7",
   "metadata": {},
   "outputs": [],
   "source": [
    "class RealEstateListing(BaseModel):\n",
    "    \"\"\"\n",
    "    A real estate listing.\n",
    "    \n",
    "    Attributes:\n",
    "    - neighborhood: str\n",
    "    - price: NonNegativeInt\n",
    "    - bedrooms: NonNegativeInt\n",
    "    - bathrooms: NonNegativeInt\n",
    "    - house_size: NonNegativeInt\n",
    "    - description: str\n",
    "    - neighborhood_description: str\n",
    "    \"\"\"\n",
    "    neighborhood: str = Field(description=\"The neighborhood where the property is located\")\n",
    "    price: NonNegativeInt = Field(description=\"The price of the property in USD\")\n",
    "    bedrooms: NonNegativeInt = Field(description=\"The number of bedrooms in the property\")\n",
    "    bathrooms: NonNegativeInt = Field(description=\"The number of bathrooms in the property\")\n",
    "    house_size: NonNegativeInt = Field(description=\"The size of the house in square feet\")\n",
    "    description: str = Field(description=\"A description of the property\")\n",
    "    neighborhood_description: str = Field(description=\"A description of the neighborhood.\")  \n",
    "\n",
    "class ListingCollection(BaseModel):\n",
    "    \"\"\"\n",
    "    A collection of real estate listings.\n",
    "    \n",
    "    Attributes:\n",
    "    - listings: List[RealEstateListing]\n",
    "    \"\"\"\n",
    "    listings: List[RealEstateListing] = Field(description=\"A list of real estate listings\")"
   ]
  },
  {
   "cell_type": "code",
   "execution_count": 5,
   "id": "b0a20907-7995-4d2f-be9d-46e4d5f3a11c",
   "metadata": {},
   "outputs": [],
   "source": [
    "# generate parsed output\n",
    "parser = PydanticOutputParser(pydantic_object=ListingCollection)"
   ]
  },
  {
   "cell_type": "code",
   "execution_count": 6,
   "id": "a83d02b6-e38b-44d2-8f3d-7d644dca175b",
   "metadata": {},
   "outputs": [
    {
     "name": "stdout",
     "output_type": "stream",
     "text": [
      "Generate a CSV file with at least 10 real estate listings.\n",
      "\n",
      "Neighborhood: Green Oaks\n",
      "Price: $800,000\n",
      "Bedrooms: 3\n",
      "Bathrooms: 2\n",
      "House Size: 2,000 sqft\n",
      "\n",
      "Description: Welcome to this eco-friendly oasis nestled in the heart of Green Oaks. This charming 3-bedroom, 2-bathroom home boasts energy-efficient features such as solar panels and a well-insulated structure. Natural light floods the living spaces, highlighting the beautiful hardwood floors and eco-conscious finishes. The open-concept kitchen and dining area lead to a spacious backyard with a vegetable garden, perfect for the eco-conscious family. Embrace sustainable living without compromising on style in this Green Oaks gem.\n",
      "\n",
      "Neighborhood Description: Green Oaks is a close-knit, environmentally-conscious community with access to organic grocery stores, community gardens, and bike paths. Take a stroll through the nearby Green Oaks Park or grab a cup of coffee at the cozy Green Bean Cafe. With easy access to public transportation and bike lanes, commuting is a breeze.\n",
      "\n",
      "The output should be formatted as a JSON instance that conforms to the JSON schema below.\n",
      "\n",
      "As an example, for the schema {\"properties\": {\"foo\": {\"title\": \"Foo\", \"description\": \"a list of strings\", \"type\": \"array\", \"items\": {\"type\": \"string\"}}}, \"required\": [\"foo\"]}\n",
      "the object {\"foo\": [\"bar\", \"baz\"]} is a well-formatted instance of the schema. The object {\"properties\": {\"foo\": [\"bar\", \"baz\"]}} is not well-formatted.\n",
      "\n",
      "Here is the output schema:\n",
      "```\n",
      "{\"description\": \"A collection of real estate listings.\\n\\nAttributes:\\n- listings: List[RealEstateListing]\", \"properties\": {\"listings\": {\"title\": \"Listings\", \"description\": \"A list of real estate listings\", \"type\": \"array\", \"items\": {\"$ref\": \"#/definitions/RealEstateListing\"}}}, \"required\": [\"listings\"], \"definitions\": {\"RealEstateListing\": {\"title\": \"RealEstateListing\", \"description\": \"A real estate listing.\\n\\nAttributes:\\n- neighborhood: str\\n- price: NonNegativeInt\\n- bedrooms: NonNegativeInt\\n- bathrooms: NonNegativeInt\\n- house_size: NonNegativeInt\\n- description: str\\n- neighborhood_description: str\", \"type\": \"object\", \"properties\": {\"neighborhood\": {\"title\": \"Neighborhood\", \"description\": \"The neighborhood where the property is located\", \"type\": \"string\"}, \"price\": {\"title\": \"Price\", \"description\": \"The price of the property in USD\", \"minimum\": 0, \"type\": \"integer\"}, \"bedrooms\": {\"title\": \"Bedrooms\", \"description\": \"The number of bedrooms in the property\", \"minimum\": 0, \"type\": \"integer\"}, \"bathrooms\": {\"title\": \"Bathrooms\", \"description\": \"The number of bathrooms in the property\", \"minimum\": 0, \"type\": \"integer\"}, \"house_size\": {\"title\": \"House Size\", \"description\": \"The size of the house in square feet\", \"minimum\": 0, \"type\": \"integer\"}, \"description\": {\"title\": \"Description\", \"description\": \"A description of the property\", \"type\": \"string\"}, \"neighborhood_description\": {\"title\": \"Neighborhood Description\", \"description\": \"A description of the neighborhood.\", \"type\": \"string\"}}, \"required\": [\"neighborhood\", \"price\", \"bedrooms\", \"bathrooms\", \"house_size\", \"description\", \"neighborhood_description\"]}}}\n",
      "```\n",
      "\n"
     ]
    }
   ],
   "source": [
    "# printing the prompt\n",
    "prompt = PromptTemplate(\n",
    "    template=\"{instruction}\\n{sample}\\n{format_instructions}\\n\",\n",
    "    input_variables=[\"instruction\", \"sample\"],\n",
    "    partial_variables={\"format_instructions\": parser.get_format_instructions},\n",
    ")\n",
    "\n",
    "query = prompt.format(\n",
    "    instruction=INSTRUCTION,\n",
    "    sample=SAMPLE_LISTING,\n",
    ")\n",
    "print(query)"
   ]
  },
  {
   "cell_type": "code",
   "execution_count": 7,
   "id": "9d4ff6a1-bcbb-44b8-aa1a-0a65d9fdb89c",
   "metadata": {},
   "outputs": [
    {
     "name": "stderr",
     "output_type": "stream",
     "text": [
      "C:\\Users\\ac88385\\AppData\\Local\\anaconda3\\Lib\\site-packages\\langchain_core\\_api\\deprecation.py:117: LangChainDeprecationWarning: The function `__call__` was deprecated in LangChain 0.1.7 and will be removed in 0.2.0. Use invoke instead.\n",
      "  warn_deprecated(\n"
     ]
    }
   ],
   "source": [
    "# get the response\n",
    "response = llm(query)"
   ]
  },
  {
   "cell_type": "code",
   "execution_count": 9,
   "id": "f1413fcf-2869-4438-8eaf-0cba63d9d00d",
   "metadata": {},
   "outputs": [
    {
     "data": {
      "text/html": [
       "<div>\n",
       "<style scoped>\n",
       "    .dataframe tbody tr th:only-of-type {\n",
       "        vertical-align: middle;\n",
       "    }\n",
       "\n",
       "    .dataframe tbody tr th {\n",
       "        vertical-align: top;\n",
       "    }\n",
       "\n",
       "    .dataframe thead th {\n",
       "        text-align: right;\n",
       "    }\n",
       "</style>\n",
       "<table border=\"1\" class=\"dataframe\">\n",
       "  <thead>\n",
       "    <tr style=\"text-align: right;\">\n",
       "      <th></th>\n",
       "      <th>neighborhood</th>\n",
       "      <th>price</th>\n",
       "      <th>bedrooms</th>\n",
       "      <th>bathrooms</th>\n",
       "      <th>house_size</th>\n",
       "      <th>description</th>\n",
       "      <th>neighborhood_description</th>\n",
       "    </tr>\n",
       "  </thead>\n",
       "  <tbody>\n",
       "    <tr>\n",
       "      <th>0</th>\n",
       "      <td>Green Oaks</td>\n",
       "      <td>800000</td>\n",
       "      <td>3</td>\n",
       "      <td>2</td>\n",
       "      <td>2000</td>\n",
       "      <td>Welcome to this eco-friendly oasis nestled in ...</td>\n",
       "      <td>Green Oaks is a close-knit, environmentally-co...</td>\n",
       "    </tr>\n",
       "    <tr>\n",
       "      <th>1</th>\n",
       "      <td>Sunnyvale</td>\n",
       "      <td>950000</td>\n",
       "      <td>4</td>\n",
       "      <td>3</td>\n",
       "      <td>2500</td>\n",
       "      <td>Located in the desirable neighborhood of Sunny...</td>\n",
       "      <td>Sunnyvale is known for its top-rated schools, ...</td>\n",
       "    </tr>\n",
       "    <tr>\n",
       "      <th>2</th>\n",
       "      <td>Brooklyn Heights</td>\n",
       "      <td>1200000</td>\n",
       "      <td>5</td>\n",
       "      <td>4</td>\n",
       "      <td>3500</td>\n",
       "      <td>Welcome to this stunning 5-bedroom, 4-bathroom...</td>\n",
       "      <td>Brooklyn Heights is a charming neighborhood kn...</td>\n",
       "    </tr>\n",
       "    <tr>\n",
       "      <th>3</th>\n",
       "      <td>Pacific Palisades</td>\n",
       "      <td>3500000</td>\n",
       "      <td>6</td>\n",
       "      <td>5</td>\n",
       "      <td>5000</td>\n",
       "      <td>Experience luxury living in this 6-bedroom, 5-...</td>\n",
       "      <td>Pacific Palisades is a sought-after community ...</td>\n",
       "    </tr>\n",
       "    <tr>\n",
       "      <th>4</th>\n",
       "      <td>Georgetown</td>\n",
       "      <td>1800000</td>\n",
       "      <td>4</td>\n",
       "      <td>3</td>\n",
       "      <td>3000</td>\n",
       "      <td>Situated in the historic neighborhood of Georg...</td>\n",
       "      <td>Georgetown is known for its cobblestone street...</td>\n",
       "    </tr>\n",
       "  </tbody>\n",
       "</table>\n",
       "</div>"
      ],
      "text/plain": [
       "        neighborhood    price  bedrooms  bathrooms  house_size  \\\n",
       "0         Green Oaks   800000         3          2        2000   \n",
       "1          Sunnyvale   950000         4          3        2500   \n",
       "2   Brooklyn Heights  1200000         5          4        3500   \n",
       "3  Pacific Palisades  3500000         6          5        5000   \n",
       "4         Georgetown  1800000         4          3        3000   \n",
       "\n",
       "                                         description  \\\n",
       "0  Welcome to this eco-friendly oasis nestled in ...   \n",
       "1  Located in the desirable neighborhood of Sunny...   \n",
       "2  Welcome to this stunning 5-bedroom, 4-bathroom...   \n",
       "3  Experience luxury living in this 6-bedroom, 5-...   \n",
       "4  Situated in the historic neighborhood of Georg...   \n",
       "\n",
       "                            neighborhood_description  \n",
       "0  Green Oaks is a close-knit, environmentally-co...  \n",
       "1  Sunnyvale is known for its top-rated schools, ...  \n",
       "2  Brooklyn Heights is a charming neighborhood kn...  \n",
       "3  Pacific Palisades is a sought-after community ...  \n",
       "4  Georgetown is known for its cobblestone street...  "
      ]
     },
     "execution_count": 9,
     "metadata": {},
     "output_type": "execute_result"
    }
   ],
   "source": [
    "# create a dataframe from the response\n",
    "result = parser.parse(response)\n",
    "df = pd.DataFrame(jsonable_encoder(result.listings))\n",
    "df.head()"
   ]
  },
  {
   "cell_type": "code",
   "execution_count": 10,
   "id": "1cb3bcba-c899-418e-8fae-439621351418",
   "metadata": {},
   "outputs": [],
   "source": [
    "# save the dataframe to a csv file\n",
    "df.to_csv('real_estate_listings.csv', index_label = 'id')"
   ]
  },
  {
   "cell_type": "markdown",
   "id": "e68c6671-cf85-487d-8d9c-abe88f133dac",
   "metadata": {},
   "source": [
    "# Step 3: Storing Listings in a Vector Database\r\n",
    "* Vector Database Setup: Initialize and configure ChromaDB or a similar vector database to store real estate listings.\n",
    "\r",
    "* \n",
    "Generating and Storing Embeddings: Convert the LLM-generated listings into suitable embeddings that capture the semantic content of each listing, and store these embeddings in the vector database.e"
   ]
  },
  {
   "cell_type": "code",
   "execution_count": null,
   "id": "d06fd3ee-6b72-43e1-bdb4-c3af936ae4e2",
   "metadata": {},
   "outputs": [],
   "source": [
    "os.environ[\"OPENAI_API_KEY\"] =\"YOUR_OPENAI_KEY\"\n",
    "\n",
    "# Get embedding for a word.\n",
    "embedding_function = OpenAIEmbeddings()\n",
    "vector = embedding_function.embed_query(\"new york\")\n",
    "print(f\"Vector for 'new york': {vector}\")\n",
    "print(f\"Vector length: {len(vector)}\")\n",
    "\n",
    "# Compare vector of two words\n",
    "evaluator = load_evaluator('pairwise_embedding_distance')\n",
    "words = (\"new york\", \"nyc\")\n",
    "x = evaluator.evaluate_string_pairs(prediction=words[0], prediction_b=words[1])\n",
    "print(f\"Comparing ({words[0]}, {words[1]}): {x}\")"
   ]
  },
  {
   "cell_type": "markdown",
   "id": "5abce081-cd4b-4f2d-b440-5fbb5b97bbcf",
   "metadata": {},
   "source": [
    "# Step 4: Building the User Preference Interface\n",
    " * Collect buyer preferences, such as the number of bedrooms, bathrooms, location, and other specific requirements from a set of questions or telling the buyer to enter their preferences in natural language. You can hard-code the buyer preferences in questions and answers, or collect them interactively however you'd like, example:"
   ]
  },
  {
   "cell_type": "raw",
   "id": "3c4b6a38-04fe-4978-be46-863e9f2c8b1f",
   "metadata": {},
   "source": [
    "questions = [   \n",
    "                \"How big do you want your house to be?\" \n",
    "                \"What are 3 most important things for you in choosing this property?\", \n",
    "                \"Which amenities would you like?\", \n",
    "                \"Which transportation options are important to you?\",\n",
    "                \"How urban do you want your neighborhood to be?\",   \n",
    "            ]\n",
    "answers = [\n",
    "    \"A comfortable three-bedroom house with a spacious kitchen and a cozy living room.\",\n",
    "    \"A quiet neighborhood, good local schools, and convenient shopping options.\",\n",
    "    \"A backyard for gardening, a two-car garage, and a modern, energy-efficient heating system.\",\n",
    "    \"Easy access to a reliable bus line, proximity to a major highway, and bike-friendly roads.\",\n",
    "    \"A balance between suburban tranquility and access to urban amenities like restaurants and theaters.\""
   ]
  },
  {
   "cell_type": "markdown",
   "id": "ea2befb4-6416-492a-b3b0-2f7a0ce2556c",
   "metadata": {},
   "source": [
    "* Buyer Preference Parsing: Implement logic to interpret and structure these preferences for querying the vector database."
   ]
  },
  {
   "cell_type": "code",
   "execution_count": null,
   "id": "18400e18-0050-47e1-a10f-7b72787bd34c",
   "metadata": {},
   "outputs": [],
   "source": []
  },
  {
   "cell_type": "code",
   "execution_count": null,
   "id": "e0e934b3-2036-434f-adef-fa5f1df18cb2",
   "metadata": {},
   "outputs": [],
   "source": []
  },
  {
   "cell_type": "code",
   "execution_count": null,
   "id": "94fcb725-6932-4b50-bc0e-c2414c11fdb9",
   "metadata": {},
   "outputs": [],
   "source": []
  },
  {
   "cell_type": "markdown",
   "id": "618e2f85-d256-4b3e-aabe-7061cc0fe422",
   "metadata": {},
   "source": [
    "# Step 5: Searching Based on Preferences\r\n",
    "\r\n",
    "Semantic Search Implementation: Use the structured buyer preferences to perform a semantic search on the vector database, retrieving listings that most closely match the user's requirements.\r\n",
    "Listing Retrieval Logic: Fine-tune the retrieval algorithm to ensure that the most relevant listings are selected based on the semantic closeness to the buyer’s preferencct Submission"
   ]
  },
  {
   "cell_type": "code",
   "execution_count": null,
   "id": "8625ac96-dcaa-4524-b3c9-3ad537dff714",
   "metadata": {},
   "outputs": [],
   "source": []
  },
  {
   "cell_type": "code",
   "execution_count": null,
   "id": "6d45c0e8-3c08-4eda-8a96-6b5855675485",
   "metadata": {},
   "outputs": [],
   "source": []
  },
  {
   "cell_type": "markdown",
   "id": "d8f61dc9-d35c-490b-aa7d-933a8177ee3a",
   "metadata": {},
   "source": [
    "\n",
    "# Step 6: Personalizing Listing Descriptions\n",
    "\n",
    "LLM Augmentation: For each retrieved listing, use the LLM to augment the description, tailoring it to resonate with the buyer’s specific preferences. This involves subtly emphasizing aspects of the property that align with what the buyer is looking for.\n",
    "Maintaining Factual Integrity: Ensure that the augmentation process enhances the appeal of the listing without altering factual information."
   ]
  },
  {
   "cell_type": "code",
   "execution_count": null,
   "id": "6b3db5fd-8d6e-431a-9131-5b92a556fb22",
   "metadata": {},
   "outputs": [],
   "source": []
  },
  {
   "cell_type": "code",
   "execution_count": null,
   "id": "7191dbd0-2797-4285-be34-5d08b4179396",
   "metadata": {},
   "outputs": [],
   "source": []
  },
  {
   "cell_type": "code",
   "execution_count": null,
   "id": "cd7c21ff-2665-4e9e-b1be-874a1dfffb64",
   "metadata": {},
   "outputs": [],
   "source": []
  },
  {
   "cell_type": "markdown",
   "id": "cc0161e0-2401-4a6c-9c92-12c55fe709b5",
   "metadata": {},
   "source": [
    "\n",
    "# Step 7: Deliverables and Testing\n",
    "\n",
    "Test your \"HomeMatch\" application and make sure it meets all of the requirements in the rubric(opens in a new tab). Your project code will be run when it's assessed. Enter different \"buyer preferences\" and ensure it works.\n",
    "Jupyter Notebook/Python Program: Compile the application code in a Jupyter notebook or a standalone Python program. Ensure the code is well-commented and logically structured.\n",
    "Example Outputs: Include example outputs showcasing how user preferences are processed and how the application generates personalized listing descriptions. You can include these in comments in your application or in a Jupyter notebook that's saved with outputs.\n",
    "Step 8: Project Submission"
   ]
  },
  {
   "cell_type": "code",
   "execution_count": null,
   "id": "cdc76be5-c267-48fa-98b5-bd2c1edf9c5e",
   "metadata": {},
   "outputs": [],
   "source": []
  },
  {
   "cell_type": "code",
   "execution_count": null,
   "id": "11d037f7-45f0-46fb-8a3a-43ee91f6d5bf",
   "metadata": {},
   "outputs": [],
   "source": []
  },
  {
   "cell_type": "code",
   "execution_count": null,
   "id": "02f4f53e-64de-4da3-a110-a4652fb1e0da",
   "metadata": {},
   "outputs": [],
   "source": []
  }
 ],
 "metadata": {
  "kernelspec": {
   "display_name": "Python 3 (ipykernel)",
   "language": "python",
   "name": "python3"
  },
  "language_info": {
   "codemirror_mode": {
    "name": "ipython",
    "version": 3
   },
   "file_extension": ".py",
   "mimetype": "text/x-python",
   "name": "python",
   "nbconvert_exporter": "python",
   "pygments_lexer": "ipython3",
   "version": "3.11.7"
  }
 },
 "nbformat": 4,
 "nbformat_minor": 5
}
